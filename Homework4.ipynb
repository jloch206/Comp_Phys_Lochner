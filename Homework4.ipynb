{
 "cells": [
  {
   "cell_type": "markdown",
   "id": "b5da0295",
   "metadata": {},
   "source": [
    "# Homework 4\n",
    "\n",
    "\n",
    "Please follow the guidelines in Sec ***9. Homework Projects*** of the Syllabus. \n",
    "\n",
    "Homework projects must be submitted via Canvas as a *working* Jupyter notebook.\n",
    "\n",
    "## Question 1\n",
    "\n",
    "In this assignment, we would like to perform regression using the Hermite polynomials. \n",
    "\n",
    "Given the input data $\\{x_k\\}_{k=1}^n$ and $\\{f_k = f(x_k)\\}_{k=1}^n$, we want to find the coefficients $\\{a_j\\}_{j=1}^m$ such that the linear combination of [the Hermite polynomials](http://dlmf.nist.gov/18.5.E18) (recall that we used them in Module 4),\n",
    "$$\n",
    "    \\sum_{j=1}^{m} a_j H_{j-1}(x)\n",
    "$$\n",
    " approximates the input data. Following the discussion on the polynomial regression in Module 5, reformulate the following least square error minimization in the matrix form:\n",
    "\n",
    "$$\n",
    "    error^2 = \\sum_{k=1}^n \\left(\\sum_{j=1}^m a_j H_{j - 1}(x_k) - f_k\\right)^2 \\to \\min.\n",
    "$$"
   ]
  },
  {
   "cell_type": "code",
   "execution_count": null,
   "id": "47821912",
   "metadata": {},
   "outputs": [],
   "source": []
  },
  {
   "cell_type": "markdown",
   "id": "564587f4",
   "metadata": {},
   "source": [
    "## Question 2\n",
    "\n",
    "Using the input data from the class"
   ]
  },
  {
   "cell_type": "code",
   "execution_count": 1,
   "id": "51ae4067",
   "metadata": {},
   "outputs": [],
   "source": [
    "using Random\n",
    "Random.seed!(926491)\n",
    "\n",
    "f_exact(x) = x ^ 2\n",
    "\n",
    "x_given = range(-2, 2, 10)\n",
    "f_given = f_exact.(x_given) + randn(length(x_given));"
   ]
  },
  {
   "cell_type": "markdown",
   "id": "473d5e1b",
   "metadata": {},
   "source": [
    "and the formulation obtained in the previous question, numericaly perform the regression with the Hermite polynomials with $m=3$ and visualize the results."
   ]
  },
  {
   "cell_type": "markdown",
   "id": "06f71aef",
   "metadata": {},
   "source": []
  },
  {
   "cell_type": "markdown",
   "id": "6a6386fa",
   "metadata": {},
   "source": [
    "## Question 3: extra credit for 3170, required for 6170\n",
    "\n",
    "In this problem we generalize the polynomial regression to two dimensions. Assume the input data is $\\{(x_k, y_k)\\}_{k=1}^n$ and $\\{f_k\\}_{k=1}^n$, and you are tasked to find the quadratic polynomial in the variables $x$ and $y$, \n",
    "\n",
    "$$\n",
    "    f(x, y) = a_1 + x a_2 + y a_3 +  x ^2  a_4 + x y a_5 + y ^ 2 a_6,\n",
    "$$\n",
    "\n",
    "such that $f(x_k, y_k) \\approx f_k$ in the least-squared error sense. Formulate this problem in the matrix form."
   ]
  },
  {
   "cell_type": "markdown",
   "id": "49cc3af5",
   "metadata": {},
   "source": []
  },
  {
   "cell_type": "markdown",
   "id": "4e3b028d",
   "metadata": {},
   "source": [
    "## Question 4: extra credit for 3170, required for 6170\n",
    "\n",
    "This problem illustrates an amazing power of the compressed sensing to recover a signal from very few measurements. Note that this example also demonstrates that the compressed sensing enables to violate the [Nyquist–Shannon sampling theorem](https://en.wikipedia.org/wiki/Nyquist%E2%80%93Shannon_sampling_theorem) (we mentioned this theorem in Module 4).\n",
    "\n",
    "\n",
    "At the following 3 time moments"
   ]
  },
  {
   "cell_type": "code",
   "execution_count": 4,
   "id": "11ba0db7",
   "metadata": {},
   "outputs": [],
   "source": [
    "t = [0.1; 0.5; 4];"
   ]
  },
  {
   "cell_type": "markdown",
   "id": "93eda824",
   "metadata": {},
   "source": [
    "you have measured the following 3 values of the signal $f(t)$:"
   ]
  },
  {
   "cell_type": "code",
   "execution_count": 5,
   "id": "1873d6c1",
   "metadata": {},
   "outputs": [],
   "source": [
    "f = [0.09375656034715878; -0.020392628892051068; -0.007207571158403585];"
   ]
  },
  {
   "cell_type": "markdown",
   "id": "d4121683",
   "metadata": {},
   "source": [
    "Assume that the sought signal is of the form\n",
    "$$ \n",
    "\tf(t)  = \\sum_{j=1}^{10} a_j \\cos(\\omega_j t),\t\n",
    "$$\n",
    "where the frequencies $\\omega_j$ are"
   ]
  },
  {
   "cell_type": "code",
   "execution_count": 6,
   "id": "41557050",
   "metadata": {},
   "outputs": [],
   "source": [
    "ω = [0.5186275255237416\n",
    " 0.598900006650317\n",
    " 0.724101203883798\n",
    " 2.5919380553592983\n",
    " 3.5523263008812735\n",
    " 4.841064661245181\n",
    " 5.1257568054024105\n",
    " 5.780984198895995\n",
    " 9.035675495024725\n",
    " 9.484705207866547];"
   ]
  },
  {
   "cell_type": "markdown",
   "id": "180d0a74",
   "metadata": {},
   "source": [
    "and all but one $a_j$ are zero. Find which one of $\\{a_j\\}_{j=1}^{10}$ is non-zero?\n",
    "\n",
    "*Hint:* First, formulate the problem of finding the unknown coefficients $\\{a_j\\}_{j=1}^{10}$ as a regression problem in the matrix form.  Then, use the compressed sensing to solve it with different values of $\\alpha$ and carefully observe the pattern."
   ]
  },
  {
   "cell_type": "markdown",
   "id": "e045b2a4",
   "metadata": {},
   "source": []
  }
 ],
 "metadata": {
  "kernelspec": {
   "display_name": "Julia 1.8.5",
   "language": "julia",
   "name": "julia-1.8"
  },
  "language_info": {
   "file_extension": ".jl",
   "mimetype": "application/julia",
   "name": "julia",
   "version": "1.8.5"
  }
 },
 "nbformat": 4,
 "nbformat_minor": 5
}
