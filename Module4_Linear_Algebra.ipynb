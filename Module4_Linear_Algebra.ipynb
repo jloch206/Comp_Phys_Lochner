{
 "cells": [
  {
   "cell_type": "markdown",
   "id": "09fead64",
   "metadata": {},
   "source": [
    "# Introduction to Linear Algebra\n",
    "\n",
    "Let's finding eigenvalues (i.e., energy spectrum) and eigenfunctions of the time-independent Schrodinger equation (utilizing [atomic units](https://en.wikipedia.org/wiki/Hartree_atomic_units) where $\\hbar=m=1$)\n",
    "\\begin{align}\\label{ExactHamiltonianCoordinateRep}\n",
    "\t\\left[ -\\frac{1}{2}\\frac{d^2}{d x^2} + U(x) \\right] \\psi(x) = E \\psi(x).\n",
    "\\end{align}\n",
    "\n",
    "According to the **forward finite difference** approximation,  the derivative of a function $f(x)$ is approximated by\n",
    "\n",
    "\\begin{align}\n",
    "\tf'(x) &\\approx [ f(x+\\Delta x) - f(x) ] / \\Delta x = \\left[ f(x) + f'(x) \\Delta x + O\\left(\\Delta x^2 \\right) - f(x) \\right] / \\Delta x\n",
    "\t= f'(x) + O\\left( \\Delta x \\right) \\Longrightarrow \\label{EqForwardDiffApprox} \\\\\n",
    "\tf''(x) &\\approx [ f'(x+\\Delta x) - f'(x) ] / \\Delta x  = [ f(x+2\\Delta x) - 2f(x + \\Delta x) + f(x)] / \\Delta x^2 + O\\left( \\Delta x \\right). \n",
    "\\end{align}\n",
    "\n",
    "The discretized Schrodinger Eq. reads\n",
    "\\begin{align}\\label{ForwardDiffHamiltonianDiscreet}\n",
    "\t-\\frac{\\psi(x_{k+2}) - 2\\psi(x_{k+1})  + \\psi(x_{k})}{2\\Delta x^2} + U(x_k)  \\psi(x_{k}) = E  \\psi(x_{k}),\n",
    "\t\\qquad k=1,1,2,\\ldots,N.\n",
    "\\end{align}\n",
    "\n",
    "In other words\n",
    "\\begin{align}\\label{ForwardDiffHamiltonianCoordinateRep}\n",
    "\t\\left[\n",
    "\t\t\\frac{-1}{2 \\Delta x^2} \n",
    "\t\t\\begin{pmatrix}\n",
    "\t\t\t1\t& -2\t& 1 \t&\t&\t& \\\\\n",
    "\t\t\t\t& 1\t& -2\t& 1\t&\t& \\\\\n",
    "\t\t\t\t&\t& \\ddots& \\ddots & \\ddots & \\\\\n",
    "\t\t\t\t&\t&\t& 1\t& -2\t& 1 \\\\\t\n",
    "\t\t\t\t&\t&\t&\t& 1\t& -2 \\\\\n",
    "\t\t\t\t&\t&\t&\t&\t& 1 \\\\\n",
    "\t\t\\end{pmatrix}\n",
    "\t\t+\n",
    "\t\t\\begin{pmatrix}\n",
    "\t\t\tU(x_1)\t&\t&\t&\t&\t& \\\\\n",
    "\t\t\t\t& U(x_2) &\t&\t&\t& \\\\\n",
    "\t\t\t\t& \t& \t& \\ddots &\t& \\\\\n",
    "\t\t\t\t&\t& \t& \t& U(x_{N-1})  & \\\\\n",
    "\t\t\t\t&\t&\t& \t& \t& U(x_{N})\n",
    "\t\t\\end{pmatrix}\n",
    "\t\\right]\n",
    "\t\\begin{pmatrix}\n",
    "\t \\psi(x_1)\\\\\n",
    "\t \\psi(x_2) \\\\\n",
    "\t \\vdots \\\\\n",
    "\t \\psi(x_{N-1}) \\\\\n",
    "\t \\psi(x_N) \n",
    "\t\\end{pmatrix}\n",
    "\t= E\n",
    "\t\\begin{pmatrix}\n",
    "\t \\psi(x_1)\\\\\n",
    "\t \\psi(x_2) \\\\\n",
    "\t \\vdots \\\\\n",
    "\t \\psi(x_{N-1}) \\\\\n",
    "\t \\psi(x_N) \n",
    "\t\\end{pmatrix}\n",
    " \\end{align} "
   ]
  },
  {
   "cell_type": "code",
   "execution_count": 6,
   "id": "073e8294",
   "metadata": {},
   "outputs": [
    {
     "data": {
      "text/plain": [
       "4×4 Matrix{Int64}:\n",
       " 1  -2   1   0\n",
       " 0   1  -2   1\n",
       " 0   0   1  -2\n",
       " 0   0   0   1"
      ]
     },
     "execution_count": 6,
     "metadata": {},
     "output_type": "execute_result"
    }
   ],
   "source": [
    "A = [1 -2 1 0\n",
    "0 1 -2 1\n",
    "0 0 1 -2\n",
    "0 0 0 1]"
   ]
  },
  {
   "cell_type": "code",
   "execution_count": 2,
   "id": "e2bbc0ad",
   "metadata": {},
   "outputs": [],
   "source": [
    "using LinearAlgebra"
   ]
  },
  {
   "cell_type": "code",
   "execution_count": 12,
   "id": "00b9fcf5",
   "metadata": {},
   "outputs": [
    {
     "data": {
      "text/plain": [
       "4×4 Matrix{Int64}:\n",
       " 11  -2   1   0\n",
       "  0  11  -2   1\n",
       "  0   0  11  -2\n",
       "  0   0   0  11"
      ]
     },
     "execution_count": 12,
     "metadata": {},
     "output_type": "execute_result"
    }
   ],
   "source": [
    "diagm(0 => [1, 1, 1, 1], 1 => [-2, -2, -2], 2 => [1, 1]) + diagm([10, 10, 10, 10])"
   ]
  },
  {
   "cell_type": "code",
   "execution_count": 13,
   "id": "1fa5cfe4",
   "metadata": {},
   "outputs": [
    {
     "data": {
      "text/plain": [
       "U (generic function with 1 method)"
      ]
     },
     "execution_count": 13,
     "metadata": {},
     "output_type": "execute_result"
    }
   ],
   "source": [
    "U(x) = 0.5 * x^2"
   ]
  },
  {
   "cell_type": "code",
   "execution_count": null,
   "id": "26889824",
   "metadata": {},
   "outputs": [],
   "source": []
  },
  {
   "cell_type": "markdown",
   "id": "85c4f94b",
   "metadata": {},
   "source": [
    "$$\n",
    "E_n = \\hbar \\omega\\left(n + \\frac{1}{2}\\right),\n",
    "\\qquad n = 0,1,2, \\ldots\n",
    "$$"
   ]
  },
  {
   "cell_type": "code",
   "execution_count": 25,
   "id": "40a947c5",
   "metadata": {},
   "outputs": [
    {
     "data": {
      "text/plain": [
       "100×100 Matrix{Float64}:\n",
       " -76.5703  153.141   -76.5703   -0.0     …   -0.0      -0.0      -0.0\n",
       "  -0.0     -76.5703  153.141   -76.5703      -0.0      -0.0      -0.0\n",
       "  -0.0      -0.0     -76.5703  153.141       -0.0      -0.0      -0.0\n",
       "  -0.0      -0.0      -0.0     -76.5703      -0.0      -0.0      -0.0\n",
       "  -0.0      -0.0      -0.0      -0.0         -0.0      -0.0      -0.0\n",
       "  -0.0      -0.0      -0.0      -0.0     …   -0.0      -0.0      -0.0\n",
       "  -0.0      -0.0      -0.0      -0.0         -0.0      -0.0      -0.0\n",
       "  -0.0      -0.0      -0.0      -0.0         -0.0      -0.0      -0.0\n",
       "  -0.0      -0.0      -0.0      -0.0         -0.0      -0.0      -0.0\n",
       "  -0.0      -0.0      -0.0      -0.0         -0.0      -0.0      -0.0\n",
       "  -0.0      -0.0      -0.0      -0.0     …   -0.0      -0.0      -0.0\n",
       "  -0.0      -0.0      -0.0      -0.0         -0.0      -0.0      -0.0\n",
       "  -0.0      -0.0      -0.0      -0.0         -0.0      -0.0      -0.0\n",
       "   ⋮                                     ⋱                      \n",
       "  -0.0      -0.0      -0.0      -0.0         -0.0      -0.0      -0.0\n",
       "  -0.0      -0.0      -0.0      -0.0         -0.0      -0.0      -0.0\n",
       "  -0.0      -0.0      -0.0      -0.0     …   -0.0      -0.0      -0.0\n",
       "  -0.0      -0.0      -0.0      -0.0         -0.0      -0.0      -0.0\n",
       "  -0.0      -0.0      -0.0      -0.0         -0.0      -0.0      -0.0\n",
       "  -0.0      -0.0      -0.0      -0.0         -0.0      -0.0      -0.0\n",
       "  -0.0      -0.0      -0.0      -0.0         -0.0      -0.0      -0.0\n",
       "  -0.0      -0.0      -0.0      -0.0     …  -76.5703   -0.0      -0.0\n",
       "  -0.0      -0.0      -0.0      -0.0        153.141   -76.5703   -0.0\n",
       "  -0.0      -0.0      -0.0      -0.0        -76.5703  153.141   -76.5703\n",
       "  -0.0      -0.0      -0.0      -0.0         -0.0     -76.5703  153.141\n",
       "  -0.0      -0.0      -0.0      -0.0         -0.0      -0.0     -76.5703"
      ]
     },
     "execution_count": 25,
     "metadata": {},
     "output_type": "execute_result"
    }
   ],
   "source": [
    "a = -4\n",
    "b = 4\n",
    "N = 100\n",
    "\n",
    "x = range(a, b, N)\n",
    "Δx = x[2] - x[1]\n",
    "\n",
    " -1 / (2 * Δx^2) * diagm(0 => ones(N), 1 => -2 * ones(N - 1), 2 => ones(N - 2))"
   ]
  },
  {
   "cell_type": "code",
   "execution_count": 19,
   "id": "2c2375e6",
   "metadata": {},
   "outputs": [],
   "source": [
    "using PyPlot"
   ]
  },
  {
   "cell_type": "code",
   "execution_count": 20,
   "id": "2fb5242c",
   "metadata": {},
   "outputs": [
    {
     "data": {
      "image/png": "[encoded data removed]",
      "text/plain": [
       "Figure(PyObject <Figure size 640x480 with 1 Axes>)"
      ]
     },
     "metadata": {},
     "output_type": "display_data"
    },
    {
     "data": {
      "text/plain": [
       "1-element Vector{PyCall.PyObject}:\n",
       " PyObject <matplotlib.lines.Line2D object at 0x2974aecb0>"
      ]
     },
     "execution_count": 20,
     "metadata": {},
     "output_type": "execute_result"
    }
   ],
   "source": [
    "plot(x, U.(x))"
   ]
  },
  {
   "cell_type": "code",
   "execution_count": null,
   "id": "10fd47d0",
   "metadata": {},
   "outputs": [],
   "source": []
  }
 ],
 "metadata": {
  "kernelspec": {
   "display_name": "Julia 1.8.5",
   "language": "julia",
   "name": "julia-1.8"
  },
  "language_info": {
   "file_extension": ".jl",
   "mimetype": "application/julia",
   "name": "julia",
   "version": "1.8.5"
  }
 },
 "nbformat": 4,
 "nbformat_minor": 5
}
