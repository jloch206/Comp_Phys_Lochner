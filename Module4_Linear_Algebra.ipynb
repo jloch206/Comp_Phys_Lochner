{
 "cells": [
  {
   "cell_type": "markdown",
   "id": "26945ad0",
   "metadata": {},
   "source": [
    "# Introduction to Linear Algebra\n",
    "\n",
    "Let's finding eigenvalues (i.e., energy spectrum) and eigenfunctions of the time-independent Schrodinger equation (utilizing [atomic units](https://en.wikipedia.org/wiki/Hartree_atomic_units) where $\\hbar=m=1$)\n",
    "\\begin{align}\\label{ExactHamiltonianCoordinateRep}\n",
    "\t\\left[ -\\frac{1}{2}\\frac{d^2}{d x^2} + U(x) \\right] \\psi(x) = E \\psi(x).\n",
    "\\end{align}\n",
    "\n",
    "[**See also derivations in these in-class notes.**](https://wavetulane-my.sharepoint.com/:o:/g/personal/dbondar_tulane_edu/EjZjkvTFp4tNrthBttdxEJQBwxTUBJotcnkl_vWWOoY_XA?e=AjzyDr)\n",
    "\n",
    "According to the **forward finite difference** approximation,  the derivative of a function $f(x)$ is approximated by\n",
    "\n",
    "\\begin{align}\n",
    "\tf'(x) &\\approx [ f(x+\\Delta x) - f(x) ] / \\Delta x = \\left[ f(x) + f'(x) \\Delta x + O\\left(\\Delta x^2 \\right) - f(x) \\right] / \\Delta x\n",
    "\t= f'(x) + O\\left( \\Delta x \\right) \\Longrightarrow \\label{EqForwardDiffApprox} \\\\\n",
    "\tf''(x) &\\approx [ f'(x+\\Delta x) - f'(x) ] / \\Delta x  = [ f(x+2\\Delta x) - 2f(x + \\Delta x) + f(x)] / \\Delta x^2 + O\\left( \\Delta x \\right). \n",
    "\\end{align}\n",
    "\n",
    "The discretized Schrodinger Eq. reads\n",
    "\\begin{align}\\label{ForwardDiffHamiltonianDiscreet}\n",
    "\t-\\frac{\\psi(x_{k+2}) - 2\\psi(x_{k+1})  + \\psi(x_{k})}{2\\Delta x^2} + U(x_k)  \\psi(x_{k}) = E  \\psi(x_{k}),\n",
    "\t\\qquad k=1,1,2,\\ldots,N,\n",
    "\\end{align}\n",
    "whith the boundary condition $\\psi(x_{N+1}) = \\psi(x_{N+2}) =0$.\n",
    "\n",
    "In other words\n",
    "\\begin{align}\\label{ForwardDiffHamiltonianCoordinateRep}\n",
    "\t\\left[\n",
    "\t\t\\frac{-1}{2 \\Delta x^2} \n",
    "\t\t\\begin{pmatrix}\n",
    "\t\t\t1\t& -2\t& 1 \t&\t&\t& \\\\\n",
    "\t\t\t\t& 1\t& -2\t& 1\t&\t& \\\\\n",
    "\t\t\t\t&\t& \\ddots& \\ddots & \\ddots & \\\\\n",
    "\t\t\t\t&\t&\t& 1\t& -2\t& 1 \\\\\t\n",
    "\t\t\t\t&\t&\t&\t& 1\t& -2 \\\\\n",
    "\t\t\t\t&\t&\t&\t&\t& 1 \\\\\n",
    "\t\t\\end{pmatrix}\n",
    "\t\t+\n",
    "\t\t\\begin{pmatrix}\n",
    "\t\t\tU(x_1)\t&\t&\t&\t&\t& \\\\\n",
    "\t\t\t\t& U(x_2) &\t&\t&\t& \\\\\n",
    "\t\t\t\t& \t& \t& \\ddots &\t& \\\\\n",
    "\t\t\t\t&\t& \t& \t& U(x_{N-1})  & \\\\\n",
    "\t\t\t\t&\t&\t& \t& \t& U(x_{N})\n",
    "\t\t\\end{pmatrix}\n",
    "\t\\right]\n",
    "\t\\begin{pmatrix}\n",
    "\t \\psi(x_1)\\\\\n",
    "\t \\psi(x_2) \\\\\n",
    "\t \\vdots \\\\\n",
    "\t \\psi(x_{N-1}) \\\\\n",
    "\t \\psi(x_N) \n",
    "\t\\end{pmatrix}\n",
    "\t= E\n",
    "\t\\begin{pmatrix}\n",
    "\t \\psi(x_1)\\\\\n",
    "\t \\psi(x_2) \\\\\n",
    "\t \\vdots \\\\\n",
    "\t \\psi(x_{N-1}) \\\\\n",
    "\t \\psi(x_N) \n",
    "\t\\end{pmatrix}\n",
    " \\end{align} "
   ]
  },
  {
   "cell_type": "code",
   "execution_count": 1,
   "id": "5ec1c6c2",
   "metadata": {},
   "outputs": [],
   "source": [
    "using LinearAlgebra"
   ]
  },
  {
   "cell_type": "code",
   "execution_count": null,
   "id": "31136fcd",
   "metadata": {},
   "outputs": [],
   "source": []
  },
  {
   "cell_type": "markdown",
   "id": "6bed10e6",
   "metadata": {},
   "source": [
    "$$\n",
    "E_n = \\hbar \\omega\\left(n + \\frac{1}{2}\\right),\n",
    "\\qquad n = 0,1,2, \\ldots\n",
    "$$"
   ]
  },
  {
   "cell_type": "code",
   "execution_count": 2,
   "id": "c97f6d90",
   "metadata": {},
   "outputs": [
    {
     "data": {
      "text/plain": [
       "energies_forward_fin_diff (generic function with 1 method)"
      ]
     },
     "execution_count": 2,
     "metadata": {},
     "output_type": "execute_result"
    }
   ],
   "source": [
    "function energies_forward_fin_diff(U::Function, a::Real, b::Real, N::Int)\n",
    "    x = range(a, b, N)\n",
    "    Δx = x[2] - x[1]\n",
    "\n",
    "    Hamiltonian =  -1 / (2 * Δx^2) * diagm(\n",
    "        0 => ones(N), \n",
    "        1 => -2 * ones(N - 1), \n",
    "        2 => ones(N - 2)\n",
    "    ) \n",
    "\n",
    "    Hamiltonian += diagm(U.(x))\n",
    "        \n",
    "    return eigvals(Hamiltonian)\n",
    "end"
   ]
  },
  {
   "cell_type": "code",
   "execution_count": 9,
   "id": "c23d6dfd",
   "metadata": {},
   "outputs": [
    {
     "data": {
      "text/plain": [
       "10-element Vector{Float64}:\n",
       " -0.5340470679012346\n",
       " -0.5340470679012346\n",
       "  0.25607638888888884\n",
       "  0.25607638888888884\n",
       "  1.836323302469136\n",
       "  1.836323302469136\n",
       "  4.206693672839506\n",
       "  4.206693672839506\n",
       "  7.3671875\n",
       "  7.3671875"
      ]
     },
     "execution_count": 9,
     "metadata": {},
     "output_type": "execute_result"
    }
   ],
   "source": [
    "energies = energies_forward_fin_diff(\n",
    "    # potential energy U\n",
    "    x -> 0.5 * x ^ 2,\n",
    "    \n",
    "    # a is the minimal x\n",
    "    -4,\n",
    "    \n",
    "    # b is the max x\n",
    "    +4,\n",
    "    \n",
    "    # N\n",
    "    10\n",
    ")"
   ]
  },
  {
   "cell_type": "code",
   "execution_count": 4,
   "id": "7732aa4b",
   "metadata": {},
   "outputs": [
    {
     "data": {
      "text/plain": [
       "-76.56949625675938"
      ]
     },
     "execution_count": 4,
     "metadata": {},
     "output_type": "execute_result"
    }
   ],
   "source": [
    "energies[1]"
   ]
  },
  {
   "cell_type": "markdown",
   "id": "23d25a52",
   "metadata": {},
   "source": [
    "### 😱💩😱💩 backward finite difference is unphysical 😱💩😱💩\n",
    "\n",
    "Even though the original Schrödinger eq. contains the self-adjoint Hamiltonian, the discretization with the forward difference approximation is non-Hermitian. This is the resource of unphysicallity of the forward and backward finite difference approximations."
   ]
  },
  {
   "cell_type": "markdown",
   "id": "00a85f9f",
   "metadata": {},
   "source": [
    "## Central finite difference method\n",
    "\n",
    "The central difference method\n",
    "\\begin{align}\n",
    "\tf'(x) &\\approx [ f(x+\\Delta x/2) - f(x-\\Delta x/2) ] / \\Delta x = f'(x) + O\\left( \\Delta x^2 \\right) \\Longrightarrow \\label{CentralFinitDiffApprox} \\\\\n",
    "\tf''(x) &\\approx  [ f'(x+\\Delta x/2) - f'(x-\\Delta x/2) ] / \\Delta x  = [ f(x + \\Delta x) - 2f(x) + f(x- \\Delta x)] / \\Delta x^2  + O\\left( \\Delta x^2 \\right). \n",
    "\\end{align}\n",
    "\n",
    "The discretized Schrodinger Eq. reads\n",
    "\\begin{align}\n",
    "\t-\\frac{\\psi(x_{k+1}) - 2\\psi(x_{k})  + \\psi(x_{k - 1})}{2\\Delta x^2} + U(x_k)  \\psi(x_{k}) = E  \\psi(x_{k}),\n",
    "\t\\qquad k=1,1,2,\\ldots,N,\n",
    "\\end{align}\n",
    "\n",
    "with the boundary conditions $\\psi(x_{-1}) = \\psi(x_{N+1}) = 0$, which is a grid representation of $\\langle \\pm\\infty | \\psi \\rangle = 0$.\n",
    "\n",
    "This leads to the Hermitian finite dimensional approximation of the Hamiltonian:\n",
    "\\begin{align}\n",
    "\t\\left[\n",
    "\t\t\\frac{-1}{2 \\Delta x^2} \n",
    "\t\t\\begin{pmatrix}\n",
    "\t\t\t-2\t& 1 &\t&\t& \\\\\n",
    "\t\t\t1\t& -2\t& 1 &\t& \\\\\n",
    "\t\t\t\t & \\ddots & \\ddots & \\ddots & \\\\\n",
    "\t\t\t\t&\t& 1\t& -2\t& 1 \\\\\n",
    "\t\t\t\t&\t&\t& 1\t& -2\n",
    "\t\t\\end{pmatrix}\n",
    "\t\t+\n",
    "\t\t\\begin{pmatrix}\n",
    "\t\t\tU(x_1)\t&\t&\t&\t&\t& \\\\\n",
    "\t\t\t\t& U(x_2) &\t&\t&\t& \\\\\n",
    "\t\t\t\t& \t& \t& \\ddots &\t& \\\\\n",
    "\t\t\t\t&\t& \t& \t& U(x_{N-1})  & \\\\\n",
    "\t\t\t\t&\t&\t& \t& \t& U(x_{N})\n",
    "\t\t\\end{pmatrix}\n",
    "\t\\right]\n",
    "\t\\begin{pmatrix}\n",
    "\t \\psi(x_1)\\\\\n",
    "\t \\psi(x_2) \\\\\n",
    "\t \\vdots \\\\\n",
    "\t \\psi(x_{N-1}) \\\\\n",
    "\t \\psi(x_N) \n",
    "\t\\end{pmatrix}\n",
    "\t= E\n",
    "\t\\begin{pmatrix}\n",
    "\t \\psi(x_1)\\\\\n",
    "\t \\psi(x_2) \\\\\n",
    "\t \\vdots \\\\\n",
    "\t \\psi(x_{N-1}) \\\\\n",
    "\t \\psi(x_N) \n",
    "\t\\end{pmatrix}\n",
    " \\end{align} \n",
    "\n",
    "Thus, the central finite difference preserves the physical structure and it leads to reliable numerical results."
   ]
  },
  {
   "cell_type": "code",
   "execution_count": 11,
   "id": "7961dbd4",
   "metadata": {},
   "outputs": [
    {
     "data": {
      "text/plain": [
       "energies_central_fin_diff (generic function with 1 method)"
      ]
     },
     "execution_count": 11,
     "metadata": {},
     "output_type": "execute_result"
    }
   ],
   "source": [
    "function energies_central_fin_diff(U::Function, a::Real, b::Real, N::Int)\n",
    "    x = range(a, b, N)\n",
    "    Δx = x[2] - x[1]\n",
    "\n",
    "    Hamiltonian =  -1 / (2 * Δx^2) * diagm(\n",
    "        -1 => ones(N - 1), \n",
    "        0 => -2 * ones(N), \n",
    "        1 => ones(N - 1), \n",
    "    ) \n",
    "\n",
    "    Hamiltonian += diagm(U.(x))\n",
    "        \n",
    "    return eigvals(Hamiltonian)\n",
    "end"
   ]
  },
  {
   "cell_type": "code",
   "execution_count": 14,
   "id": "c4ef5f09",
   "metadata": {},
   "outputs": [
    {
     "data": {
      "text/plain": [
       "1000-element Vector{Float64}:\n",
       "     0.4999984574712528\n",
       "     1.5000037672417452\n",
       "     2.5001647726071012\n",
       "     3.501562653322186\n",
       "     4.509162143440161\n",
       "     5.537903742686995\n",
       "     6.617339220899079\n",
       "     7.786132417345963\n",
       "     9.078354601617708\n",
       "    10.514874870496273\n",
       "    12.104914251217947\n",
       "    13.8513631375914\n",
       "    15.754588388506116\n",
       "     ⋮\n",
       " 31179.021406826567\n",
       " 31180.764502769358\n",
       " 31182.3473955413\n",
       " 31183.76703930244\n",
       " 31185.018387610282\n",
       " 31186.087567633498\n",
       " 31187.00239711077\n",
       " 31187.466561666093\n",
       " 31188.716888562263\n",
       " 31188.731371914215\n",
       " 31191.282047116205\n",
       " 31191.28205523517"
      ]
     },
     "execution_count": 14,
     "metadata": {},
     "output_type": "execute_result"
    }
   ],
   "source": [
    "energies = energies_central_fin_diff(\n",
    "    # potential energy U\n",
    "    x -> 0.5 * x ^ 2,\n",
    "    \n",
    "    # a is the minimal x\n",
    "    -4,\n",
    "    \n",
    "    # b is the max x\n",
    "    +4,\n",
    "    \n",
    "    # N\n",
    "    1000\n",
    ")"
   ]
  },
  {
   "cell_type": "code",
   "execution_count": 15,
   "id": "cc1a2335",
   "metadata": {},
   "outputs": [
    {
     "data": {
      "text/plain": [
       "999-element Vector{Float64}:\n",
       " 1.0000053097704924\n",
       " 1.000161005365356\n",
       " 1.0013978807150847\n",
       " 1.007599490117975\n",
       " 1.0287415992468336\n",
       " 1.0794354782120843\n",
       " 1.1687931964468845\n",
       " 1.2922221842717443\n",
       " 1.4365202688785654\n",
       " 1.5900393807216737\n",
       " 1.7464488863734537\n",
       " 1.9032252509147156\n",
       " 2.0595939952831746\n",
       " ⋮\n",
       " 1.901377262740425\n",
       " 1.7430959427911148\n",
       " 1.5828927719412604\n",
       " 1.4196437611390138\n",
       " 1.2513483078437275\n",
       " 1.0691800232161768\n",
       " 0.9148294772712688\n",
       " 0.46416455532380496\n",
       " 1.2503268961700087\n",
       " 0.014483351951639634\n",
       " 2.5506752019900887\n",
       " 8.118964615277946e-6"
      ]
     },
     "execution_count": 15,
     "metadata": {},
     "output_type": "execute_result"
    }
   ],
   "source": [
    "diff(energies)"
   ]
  },
  {
   "cell_type": "code",
   "execution_count": null,
   "id": "c7579e45",
   "metadata": {},
   "outputs": [],
   "source": []
  }
 ],
 "metadata": {
  "kernelspec": {
   "display_name": "Julia 1.8.5",
   "language": "julia",
   "name": "julia-1.8"
  },
  "language_info": {
   "file_extension": ".jl",
   "mimetype": "application/julia",
   "name": "julia",
   "version": "1.8.5"
  }
 },
 "nbformat": 4,
 "nbformat_minor": 5
}
