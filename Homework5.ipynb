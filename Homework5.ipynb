{
 "cells": [
  {
   "attachments": {},
   "cell_type": "markdown",
   "id": "d3ab1458",
   "metadata": {},
   "source": [
    "# Homework 5 - John Lochner and Jessica Lachman\n",
    "\n",
    "Please follow the guidelines in Sec ***9. Homework Projects*** of the Syllabus. \n",
    "\n",
    "Homework projects must be submitted via Canvas as a *working* Jupyter notebook.\n",
    "\n",
    "## Question 1\n",
    "\n",
    "In this question, we generalize Newton's method to two dimensions. \n",
    "\n",
    "As in the 1D case discussed in class, we begin with the Taylor expansion for a function of two variables\n",
    "$$\n",
    "    f(x_{n+1}, y_{n+1}) = f(x_n, y_n) + \\frac{\\partial f}{\\partial x}(x_n, y_n)\\cdot (x_{n+1} - x_n)  \n",
    "        + \\frac{\\partial f}{\\partial y}(x_n, y_n) \\cdot (y_{n+1} - y_n) + \\cdots\n",
    "$$\n",
    "Assuming $f(x_{n+1}, y_{n+1}) \\approx 0$, which means that the next interation $(x_{n+1}, y_{n+1})$ gives us a better approximation for a zero of the function $f$ than the previous iteration $(x_{n}, y_{n})$. Hence, we get the equation for $(x_{n+1}, y_{n+1})$:\n",
    "$$\n",
    " 0 = f(x_n, y_n) + \\frac{\\partial f}{\\partial x}(x_n, y_n)\\cdot (x_{n+1} - x_n)  \n",
    "        + \\frac{\\partial f}{\\partial y}(x_n, y_n) \\cdot (y_{n+1} - y_n),\n",
    "$$\n",
    "which can be re-written in the matrix form\n",
    "$$\n",
    "\\begin{pmatrix}\n",
    "    \\frac{\\partial f}{\\partial x}(x_n, y_n) &\n",
    "    \\frac{\\partial f}{\\partial y}(x_n, y_n)\n",
    "\\end{pmatrix}\n",
    "\\begin{pmatrix}\n",
    "    x_{n+1} - x_n \\\\\n",
    "    y_{n+1} - y_n\n",
    "\\end{pmatrix}\n",
    "= -f(x_n, y_n).\n",
    "$$\n",
    "\n",
    "\n",
    "In this case, Newton’s method can be implemented as follows: Given $(x_n, y_n)$, solve \n",
    "$$\n",
    "    \\begin{pmatrix}\n",
    "    \\frac{\\partial f}{\\partial x}(x_n, y_n) &\n",
    "    \\frac{\\partial f}{\\partial y}(x_n, y_n)\n",
    "\\end{pmatrix}\n",
    "\\vec{\\Delta}\n",
    "= -f(x_n, y_n)\n",
    "$$\n",
    "for $\\vec{\\Delta}$. (*Hint:* use the command `\\`.) Then, update \n",
    "$$\n",
    "    x_{n+1} = x_{n} + \\Delta_1, \\qquad y_{n+1} = y_{n} + \\Delta_2.\n",
    "$$\n",
    "\n",
    "Code this method up and use it to numerically find the zero of\n",
    "$$\n",
    "    f(x, y) = x^2 + y^2.\n",
    "$$"
   ]
  },
  {
   "cell_type": "code",
   "execution_count": 220,
   "id": "4990be26",
   "metadata": {},
   "outputs": [],
   "source": [
    "using LinearAlgebra"
   ]
  },
  {
   "attachments": {},
   "cell_type": "markdown",
   "id": "20b426e3",
   "metadata": {},
   "source": [
    "f(x,y) = [x $^2$    y $^2$] $\\\\$\n",
    "df (x,y) = [2x   2y] $\\\\$\n",
    "\n",
    "2x (delta1) = -2x^2 $\\\\$\n",
    "delta 1 = -x $\\\\$\n",
    "\n",
    "2y (delta2) = -2y^2 $\\\\$\n",
    "delta 2 = -y $\\\\$\n",
    "\n",
    "so $\\\\$\n",
    "xn+1 = xn -xn $\\\\$\n",
    "yn+1 = yn -yn"
   ]
  },
  {
   "cell_type": "code",
   "execution_count": 221,
   "id": "75c4018b",
   "metadata": {},
   "outputs": [
    {
     "data": {
      "text/plain": [
       "n2d (generic function with 1 method)"
      ]
     },
     "metadata": {},
     "output_type": "display_data"
    }
   ],
   "source": [
    "function n2d(f::Function, dfx::Function, dfy::Function, x0, y0; max_nsteps::Int = 1000, abstol::Real = 1e-15)\n",
    "    x = x0\n",
    "    y = y0\n",
    "\n",
    "    for step = 1:max_nsteps\n",
    "        if abs(f(x,y)) < abstol\n",
    "            return x,y\n",
    "        end\n",
    "    \n",
    "        diff = [dfx(x), dfy(y)]\n",
    "        Δ = diff' \\ [(-f(x,y))]\n",
    "        x += Δ[1]\n",
    "        y += Δ[2]\n",
    "        \n",
    "    end\n",
    "\n",
    "    println(\"iterations = \", max_nsteps)\n",
    "\n",
    "    return x,y\n",
    "end"
   ]
  },
  {
   "cell_type": "code",
   "execution_count": 222,
   "id": "140e877c",
   "metadata": {},
   "outputs": [
    {
     "name": "stdout",
     "output_type": "stream",
     "text": [
      "(5.960464477539063e-9, 2.9802322387695306e-8)"
     ]
    }
   ],
   "source": [
    "x = range(-2, 2, 100)\n",
    "y = range(-2, 2, 100)\n",
    "print(n2d((x,y) -> x^2 + y^2, x -> 2*x, y -> 2*y, .2, 1))\n"
   ]
  },
  {
   "cell_type": "code",
   "execution_count": 223,
   "id": "9d286aca",
   "metadata": {},
   "outputs": [],
   "source": [
    "function twoDimensionalNewton2(F::Function, J::Function, x::Vector, tol::Number, maxIter::Int64)\n",
    "    for i in 1:maxIter\n",
    "        println(\"x = \", x, \" f(x) = \", F(x))\n",
    "        x = x - J(x)\\F(x);\n",
    "        if norm(F(x)) < tol\n",
    "            println(\"iterations = \", i)\n",
    "            return x;\n",
    "        end\n",
    "    end\n",
    "    print(\"iterations = \", maxIter)\n",
    "    return x;\n",
    "end\n",
    "\n",
    "F = x -> [x[1]^2 + x[2]^2 ; x[1]^2 - x[2]^2];\n",
    "J = x -> [2*x[1] 2*x[2] ; 2*x[1] -2*x[2]];\n",
    "x =[-1;1.5];\n"
   ]
  },
  {
   "cell_type": "code",
   "execution_count": 224,
   "id": "46898b99",
   "metadata": {},
   "outputs": [
    {
     "name": "stdout",
     "output_type": "stream",
     "text": [
      "x = [-1.0, 1.5] f(x) = [3.25, -1.25]\n",
      "x = [-0.5, 0.75] f(x) = [0.8125, -0.3125]\n",
      "x = [-0.25, 0.375] f(x) = [0.203125, -0.078125]\n",
      "x = [-0.125, 0.1875] f(x) = [0.05078125, -0.01953125]\n",
      "x = [-0.0625, 0.09375] f(x) = [0.0126953125, -0.0048828125]\n",
      "x = [-0.03125, 0.046875] f(x) = [0.003173828125, -0.001220703125]\n",
      "x = [-0.015625, 0.0234375] f(x) = [0.00079345703125, -0.00030517578125]\n",
      "x = [-0.0078125, 0.01171875] f(x) = [0.0001983642578125, -7.62939453125e-5]\n",
      "x = [-0.00390625, 0.005859375] f(x) = [4.9591064453125e-5, -1.9073486328125e-5]\n",
      "x = [-0.001953125, 0.0029296875] f(x) = [1.239776611328125e-5, -4.76837158203125e-6]\n",
      "x = [-0.0009765625, 0.00146484375] f(x) = [3.0994415283203125e-6, -1.1920928955078125e-6]\n",
      "iterations = 11\n"
     ]
    }
   ],
   "source": [
    "xout = twoDimensionalNewton2(F,J,x,1e-6,1000);"
   ]
  },
  {
   "cell_type": "markdown",
   "id": "bd198264",
   "metadata": {},
   "source": [
    "## Question 2: extra credit for 3170, required for 6170\n",
    "\n",
    "As discussed in class, Newton’s method also allows to find the complex roots. We just need to pick some initial (complex) guess and perform the iterations\n",
    "$$\n",
    "\tz_{n+1} = z_n - \\frac{f(z_n)}{f'(z_n)}.\n",
    "$$ \n",
    "\n",
    "This iteration scheme hides a beautiful fractal structure, known as [the Newton fractal](https://en.wikipedia.org/wiki/Newton_fractal). Let’s uncover it in the case of function\n",
    "\n",
    "$$\n",
    "\tf(z) = z^3 - 1.\n",
    "$$\n",
    "\n",
    "The polynomial $f(z)$ has three complex roots ($-1/2 \\pm i\\sqrt{3}/2$ and $1$). For every complex initial guess, Newton’s iteration sequence $z_n$ converges to one of those roots. The Newton fractal appears if we label (i.e., color) every point $c$ in the complex plane by the root to which Newton's method converges when started from $c$.\n",
    "\n",
    "By adapting the in-class code drawing the Mandelbrot set, visualize the Newton fractal for $ f(z) = z^3 - 1$ in the following way: Use `x[k] + im * y[j]` as the starting point for Newton's method and the imaginary (`imag`) part of $z_{200}$ to color the pixel `image[j, k]`. It is recommend to use `x = range(-5, 5, 1000)` and `y = range(-5, 5, 1000)`.\n",
    "\n",
    "Hint: The resulting image should look like [this](https://en.wikipedia.org/wiki/Newton_fractal#/media/File:Newtroot_1_0_0_m1.png)."
   ]
  },
  {
   "cell_type": "code",
   "execution_count": 225,
   "id": "4be4e77c",
   "metadata": {},
   "outputs": [
    {
     "ename": "ErrorException",
     "evalue": "syntax: incomplete: \"begin\" at /Users/jessicalachman/Comp_Phys_Lochner/Homework5.ipynb:10 requires end",
     "output_type": "error",
     "traceback": [
      "syntax: incomplete: \"begin\" at /Users/jessicalachman/Comp_Phys_Lochner/Homework5.ipynb:10 requires end\n",
      "\n",
      "Stacktrace:\n",
      " [1] top-level scope\n",
      "   @ ~/Comp_Phys_Lochner/Homework5.ipynb:10"
     ]
    }
   ],
   "source": [
    "# define function\n",
    "f(z) = z^3 - 1\n",
    "# define derivative\n",
    "f_prime(z) = 3*z^2\n",
    "# set convergence threshold\n",
    "threshold = 1e-6\n",
    "# generate real and imaginary parts of the ranges\n",
    "x = range(-5, 5, 1000)\n",
    "y = range(-5, 5, 1000)\n",
    "@time begin\n",
    "    image = zeros(length(y), length(x))\n",
    "    Threads.@threads for j = 1:length(y)\n",
    "        for k = 1:length(x)\n",
    "            #set starting point for newtons method\n",
    "            z = x[k] + im*y[j]\n",
    "            for step = 1:200\n",
    "                # Iterate Newton's method until the root is found or the maximum number of steps is reached\n",
    "            for step = 1:200\n",
    "                z -= f(z) / f_prime(z)\n",
    "                if abs(f(z)) < threshold # checks if root has been found\n",
    "                    image[j, k] = round(imag(z)*200) # colors pixel\n",
    "                    break\n",
    "                end\n",
    "            end\n",
    "        end\n",
    "    end\n",
    "end"
   ]
  },
  {
   "cell_type": "code",
   "execution_count": 226,
   "id": "0600fdc0",
   "metadata": {},
   "outputs": [
    {
     "ename": "UndefVarError",
     "evalue": "UndefVarError: image not defined",
     "output_type": "error",
     "traceback": [
      "UndefVarError: image not defined\n",
      "\n",
      "Stacktrace:\n",
      " [1] top-level scope\n",
      "   @ ~/Comp_Phys_Lochner/Homework5.ipynb:3"
     ]
    }
   ],
   "source": [
    "using Plots\n",
    "# plots function (using Plots over PyPlot [personal preference])\n",
    "heatmap(image,c=:redsblues,title=\"Newton Fractal\")"
   ]
  },
  {
   "cell_type": "markdown",
   "id": "237f12cb",
   "metadata": {},
   "source": []
  },
  {
   "cell_type": "markdown",
   "id": "f3be7822",
   "metadata": {},
   "source": [
    "## Question 3: extra credit \n",
    "\n",
    "Derive and implement Newton's method for solving the system of equations \n",
    "$$\n",
    "\\begin{cases}\n",
    "    f(x) = 0 \\\\\n",
    "    g(x) = 0.\n",
    "\\end{cases}\n",
    "$$\n",
    "\n",
    "Use the code to numerically solve\n",
    "\n",
    "$$\n",
    "\\begin{cases}\n",
    "    f(x) = x^{3}+ 8.5 x^{2}+ 10.0 x- 37.5 = 0 \\\\\n",
    "    g(x) = x^{3}- 6.0 x^{2}+ 8.75 x- 3.0 = 0.\n",
    "\\end{cases}\n",
    "$$\n",
    "\n",
    "*Hint:* Follow the logic outlined in Question 1 by strating with the Taylor expansions \n",
    "$$\n",
    "\\begin{cases}\n",
    "    f(x_{n+1}) = f(x_n) + f'(x_n)\\cdot (x_{n+1} - x_n) + \\cdots \\\\\n",
    "    g(x_{n+1}) = g(x_n) + g'(x_n)\\cdot (x_{n+1} - x_n) + \\cdots.\n",
    "\\end{cases}\n",
    "$$"
   ]
  },
  {
   "cell_type": "markdown",
   "id": "a7507118",
   "metadata": {},
   "source": []
  }
 ],
 "metadata": {
  "kernelspec": {
   "display_name": "Julia 1.8.5",
   "language": "julia",
   "name": "julia-1.8"
  },
  "language_info": {
   "file_extension": ".jl",
   "mimetype": "application/julia",
   "name": "julia",
   "version": "1.8.5"
  }
 },
 "nbformat": 4,
 "nbformat_minor": 5
}
