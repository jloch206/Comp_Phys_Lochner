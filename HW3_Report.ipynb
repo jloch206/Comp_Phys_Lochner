{
 "cells": [
  {
   "attachments": {},
   "cell_type": "markdown",
   "metadata": {},
   "source": [
    "## Ordinary Differential Equations\n",
    "John Lochner & Andrew Sos \n",
    "\n",
    "Homework 3"
   ]
  },
  {
   "cell_type": "code",
   "execution_count": null,
   "metadata": {},
   "outputs": [],
   "source": []
  },
  {
   "attachments": {},
   "cell_type": "markdown",
   "metadata": {},
   "source": [
    "# Number 2\n",
    "The central finite difference method was derived. This method is efficient in optimizing a numerical solution to a differential equation using the central node. The boundary conditions for our original central finite differnece method were as followed:\n",
    "$\\psi(a) = \\psi(b)$ and $\\psi'(a) = \\psi'(b)$.\n",
    "\n"
   ]
  },
  {
   "attachments": {},
   "cell_type": "markdown",
   "metadata": {},
   "source": [
    "# Key Equations\n",
    "The first condition is discretized as \n",
    "$$\n",
    "  \\psi(a) = \\psi(b) \\Longrightarrow \\psi(x_0) = \\psi(x_N).\n",
    "$$\n",
    "\n",
    "Whereas, the second condition is discretized as \n",
    "$$\n",
    "    \\psi'(a) = \\psi'(b) \\Longrightarrow\n",
    "$$\n",
    "\n",
    "$$\n",
    "    \\frac{\\psi(x_1) - \\psi(x_0)}{\\Delta x} = \\frac{\\psi(x_{N+1}) - \\psi(x_{N})}{\\Delta x}\n",
    "    \\Longrightarrow\n",
    "$$\n",
    "$$\n",
    "    \\psi(x_1) - \\psi(x_N) = \\psi(x_{N+1}) - \\psi(x_{N})\n",
    "    \\Longrightarrow\n",
    "$$\n",
    "$$\n",
    "    \\psi(x_1) = \\psi(x_{N+1}).\n",
    "$$"
   ]
  },
  {
   "attachments": {},
   "cell_type": "markdown",
   "metadata": {},
   "source": [
    "## Analytical Solution\n",
    "Time independent Schrodinger EQ is discretized as:\n",
    "$$\n",
    "\\begin{align}\n",
    "\t-\\frac{\\psi(x_{k+1}) - 2\\psi(x_{k})  + \\psi(x_{k - 1})}{2\\Delta x^2} + U(x_k)  \\psi(x_{k}) = E  \\psi(x_{k}),\n",
    "\t\\qquad k=1,1,2,\\ldots,N,\n",
    "\\end{align}\n",
    "$$\n",
    "Matrix representation of time independent Schrodinger eqaution has periodic boundary condition:\n",
    "\n",
    "(1)   $$\\psi(x_{0}) = \\psi(x_{N+1}) = 0$$\n",
    "\n",
    "In discrete form,\n",
    "\n",
    "(2)  $$\\psi'(a) = \\psi'(b)$$\n",
    "and\n",
    "$$\n",
    "    \\psi(x_1) = \\psi(x_{N+1}).\n",
    "$$\n",
    "Central finite difference method:\n",
    "$$\n",
    "\\begin{align}\n",
    "\tf'(x) &\\approx [ f(x+\\Delta x/2) - f(x-\\Delta x/2) ] / \\Delta x = f'(x) + O\\left( \\Delta x^2 \\right) \\Longrightarrow {CentralFinitDiffApprox} \\\\\n",
    "\tf''(x) &\\approx  [ f'(x+\\Delta x/2) - f'(x-\\Delta x/2) ] / \\Delta x  = [ f(x + \\Delta x) - 2f(x) + f(x- \\Delta x)] / \\Delta x^2  + O\\left( \\Delta x^2 \\right). \n",
    "\\end{align}\n",
    "$$\n"
   ]
  },
  {
   "attachments": {},
   "cell_type": "markdown",
   "metadata": {},
   "source": [
    "Listing K values, then adjusting for boundary conditions yields a pattern:\n",
    "\n",
    "K=1$$-\\frac{\\psi(x_2) - 2\\psi(x_1)+\\psi(x_0)}{2\\Delta x^2} + U(x_1)  \\psi(x_1) = E \\psi(x_1)$$\n",
    "\n",
    "K=2$$\\frac{\\psi(x_3) - 2\\psi(x_2)+\\psi(x_1)}{2\\Delta x^2} + U(x_2)  \\psi(x_2) = E  \\psi(x_2)$$\n",
    "K=...$$...$$\\\n",
    "K=$N-1$ $$\\frac{\\psi(x_N) - 2\\psi(x_{N-1})+\\psi(x_{N-2})}{2\\Delta x^2} + U(x_{N-1})  \\psi(x_{N-1}) = E  \\psi(x_{N-1})$$\n",
    "K=$N$ $$\\frac{\\psi(x_{N+1}) - 2\\psi(x_{N})+\\psi(x_{N-1})}{2\\Delta x^2} + U(x_N)  \\psi(x_N) = E  \\psi(x_N)=\\frac{\\psi(x_{1}) - 2\\psi(x_{N})+\\psi(x_{N-1})}{2\\Delta x^2} + U(x_N)  \\psi(x_N)$$"
   ]
  },
  {
   "attachments": {},
   "cell_type": "markdown",
   "metadata": {},
   "source": [
    "This pattern is represented as a matrix and is the Hermitian finite dimensional approximation of the above Hamiltonian:\n",
    "\\\n",
    "\\\n",
    "$(\\frac{-1}{2\\Delta x^2})$ *\n",
    "$\\begin{pmatrix}\n",
    "-2 & 1       & 0      & 0     & \\cdots & 0 & 0  & 0  & 1 \\\\\n",
    "1  & -2      & 1      & 0     & \\cdots & 0 & 0  & 0  & 0 \\\\ \n",
    " \\ddots  &  \\ddots & \\ddots & \\ddots &    \\ddots     &  \\ddots  &  \\ddots   &  \\ddots   &  \\ddots  \\\\\n",
    "0  & 0       & 0      & 0     & \\cdots & 0 & 1  & -2 & 1  \\\\\n",
    "1  & 0       & 0      & 0     & \\cdots & 0 & 0  & 1  & -2 \\\\\n",
    "\\end{pmatrix}$\n",
    "+\n",
    "$\\begin{pmatrix}\n",
    "U(x_1) &       &       &       &       &          &           &         \\\\   \n",
    "       &U(x_2)&       &       &       &          &           &          \\\\   \n",
    "       &      &       & \\ddots&       &          &           &          \\\\ \n",
    "       &      &       &       & \\ddots&          &           &          \\\\        \n",
    "       &      &       &       &       &          & U(x_{N-1})&          \\\\   \n",
    "       &      &       &       &       &          &           & U(x_{N}) \\\\\n",
    "       \\end{pmatrix}$\n",
    "       $\\begin{pmatrix}\n",
    "\\Psi(x_1) \\\\\n",
    "\\Psi(x_2) \\\\\n",
    "\\Psi(x_{N-1}) \\\\\n",
    "\\Psi(x_{N}) \\\\ \\end{pmatrix}$= E\n",
    "$\\begin{pmatrix}\n",
    "\\Psi(x_1) \\\\\n",
    "\\Psi(x_2) \\\\\n",
    "\\Psi(x_{N-1}) \\\\\n",
    "\\Psi(x_{N}) \\\\ \\end{pmatrix}$"
   ]
  },
  {
   "attachments": {},
   "cell_type": "markdown",
   "metadata": {},
   "source": [
    "Overall, we were able to show how the boundry conditions for central difference method's boundry's change the conditions of the matrix.  "
   ]
  }
 ],
 "metadata": {
  "kernelspec": {
   "display_name": "Julia 1.8.5",
   "language": "julia",
   "name": "julia-1.8"
  },
  "language_info": {
   "file_extension": ".jl",
   "mimetype": "application/julia",
   "name": "julia",
   "version": "1.8.5"
  },
  "orig_nbformat": 4
 },
 "nbformat": 4,
 "nbformat_minor": 2
}
