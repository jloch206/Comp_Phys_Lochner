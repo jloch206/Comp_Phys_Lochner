{
 "cells": [
  {
   "cell_type": "markdown",
   "id": "6db8e8b2",
   "metadata": {},
   "source": [
    "# Homework 2\n",
    "\n",
    "Please follow the guidelines in Sec ***9. Homework Projects*** of the Syllabus. \n",
    "\n",
    "Homework projects must be submitted via Canvas as a *working* Jupyter notebook.\n",
    "\n",
    "**Important Note:** Following Module 3 lecture notes, we will use the harmonic oscillator to test the accuracy in Questions 1 and 2. Specifically, use the absolute error $error = |x(t=4\\pi) - 1|$, where $x(t)$ is the numerical solution obtained by the method specified in the question.\n",
    "\n",
    "## Question 1\n",
    "\n",
    "Implement [the (explicit) forth-order Runge-Kutta method (RK4)](https://dlmf.nist.gov/3.7#v). By plotting $error$ as a function of $N$, find how the errors of explicit RK4, explict RK2, and implicit RK2 scale with $\\Delta t$. "
   ]
  },
  {
   "cell_type": "code",
   "execution_count": 25,
   "id": "d5c01012",
   "metadata": {},
   "outputs": [
    {
     "ename": "ArgumentError",
     "evalue": "ArgumentError: Package Plot not found in current path.\n- Run `import Pkg; Pkg.add(\"Plot\")` to install the Plot package.",
     "output_type": "error",
     "traceback": [
      "ArgumentError: Package Plot not found in current path.\n",
      "- Run `import Pkg; Pkg.add(\"Plot\")` to install the Plot package.\n",
      "\n",
      "Stacktrace:\n",
      "  [1] macro expansion\n",
      "    @ .\\loading.jl:1163 [inlined]\n",
      "  [2] macro expansion\n",
      "    @ .\\lock.jl:223 [inlined]\n",
      "  [3] require(into::Module, mod::Symbol)\n",
      "    @ Base .\\loading.jl:1144\n",
      "  [4] eval\n",
      "    @ .\\boot.jl:368 [inlined]\n",
      "  [5] include_string(mapexpr::typeof(REPL.softscope), mod::Module, code::String, filename::String)\n",
      "    @ Base .\\loading.jl:1428\n",
      "  [6] #invokelatest#2\n",
      "    @ .\\essentials.jl:729 [inlined]\n",
      "  [7] invokelatest\n",
      "    @ .\\essentials.jl:726 [inlined]\n",
      "  [8] (::VSCodeServer.var\"#198#199\"{VSCodeServer.NotebookRunCellArguments, String})()\n",
      "    @ VSCodeServer c:\\Users\\johnl\\.vscode\\extensions\\julialang.language-julia-1.38.2\\scripts\\packages\\VSCodeServer\\src\\serve_notebook.jl:19\n",
      "  [9] withpath(f::VSCodeServer.var\"#198#199\"{VSCodeServer.NotebookRunCellArguments, String}, path::String)\n",
      "    @ VSCodeServer c:\\Users\\johnl\\.vscode\\extensions\\julialang.language-julia-1.38.2\\scripts\\packages\\VSCodeServer\\src\\repl.jl:249\n",
      " [10] notebook_runcell_request(conn::VSCodeServer.JSONRPC.JSONRPCEndpoint{Base.PipeEndpoint, Base.PipeEndpoint}, params::VSCodeServer.NotebookRunCellArguments)\n",
      "    @ VSCodeServer c:\\Users\\johnl\\.vscode\\extensions\\julialang.language-julia-1.38.2\\scripts\\packages\\VSCodeServer\\src\\serve_notebook.jl:13\n",
      " [11] dispatch_msg(x::VSCodeServer.JSONRPC.JSONRPCEndpoint{Base.PipeEndpoint, Base.PipeEndpoint}, dispatcher::VSCodeServer.JSONRPC.MsgDispatcher, msg::Dict{String, Any})\n",
      "    @ VSCodeServer.JSONRPC c:\\Users\\johnl\\.vscode\\extensions\\julialang.language-julia-1.38.2\\scripts\\packages\\JSONRPC\\src\\typed.jl:67\n",
      " [12] serve_notebook(pipename::String, outputchannel_logger::Base.CoreLogging.SimpleLogger; crashreporting_pipename::String)\n",
      "    @ VSCodeServer c:\\Users\\johnl\\.vscode\\extensions\\julialang.language-julia-1.38.2\\scripts\\packages\\VSCodeServer\\src\\serve_notebook.jl:139\n",
      " [13] top-level scope\n",
      "    @ c:\\Users\\johnl\\.vscode\\extensions\\julialang.language-julia-1.38.2\\scripts\\notebook\\notebook.jl:32"
     ]
    }
   ],
   "source": [
    "function rk4(f,y0,Tfinal,N)\n",
    "    y=zeros(N,length(y0))\n",
    "    t = range(0, Tfinal,N)\n",
    "    h = t[2] - t[1]\n",
    "    for i=1:N-1\n",
    "        k1 = f(y[i,:], t[i])\n",
    "        k2 = f(y[i,:]+k1(h/2),t[i]+h/2)\n",
    "        k3 = f(y[i,:]+k2(h/2),t[i]+h/2)\n",
    "        k4 = f(y[i,:]+k3*h,t[i]+h)\n",
    "        y[i+1,:] = y[i,:] + (h/6)(k1+2*k2+2*k3+k4)\n",
    "    end\n",
    "    return t,y\n",
    "end\n",
    "\n",
    "function rk2(𝐟::Function, 𝐲₀::Vector, T_final::Real, N::Int)\n",
    "    𝐲 = zeros(length(𝐲₀), N + 1)\n",
    "    t = range(0, T_final, N + 1)\n",
    "    Δt = t[2] - t[1]\n",
    "    𝐲[:, 1] = 𝐲₀\n",
    "    for k = 1:N\n",
    "        g = 𝐲[:, k] + 𝐟(𝐲[:, k], t[k]) * Δt / 2\n",
    "        𝐲[:, k + 1] =  𝐲[:, k] + 𝐟(g, t[k] + Δt / 2 ) * Δt\n",
    "    end\n",
    "    return t, 𝐲\n",
    "end\n",
    "\n",
    "rk2_t, rk2_𝐲 = rk2(\n",
    "    (y, t) -> [y[2]; -y[1]],\n",
    "    [1; 0],\n",
    "     4 * π,   100,\n",
    ");  \n",
    "using Plot\n",
    "title(\"RK2ex, RK2im & RK4 Error\")\n",
    "\n",
    "rk2_error = abs.(cos.(rk2_t) - rk2_𝐲[1, :]);\n",
    "plot()\n",
    "xlabel(\"time, t\")\n",
    "ylabel(\"Abs error\")\n",
    "show()\n",
    "\n"
   ]
  },
  {
   "cell_type": "markdown",
   "id": "5f6d3c53",
   "metadata": {},
   "source": [
    "## Question 2\n",
    "\n",
    "Implement the predictor-corrector method. By plotting $error$ as a function of $N$, find how the errors of the predictor-corrector, explicit RK2, and Omelyan integrator methods scale with $\\Delta t$."
   ]
  },
  {
   "cell_type": "code",
   "execution_count": 35,
   "id": "a565d8ce",
   "metadata": {},
   "outputs": [
    {
     "ename": "Pkg.Types.PkgError",
     "evalue": "The following package names could not be resolved:\n * GoogleCharts (not found in project, manifest or registry)",
     "output_type": "error",
     "traceback": [
      "The following package names could not be resolved:\n",
      " * GoogleCharts (not found in project, manifest or registry)\n",
      "\n",
      "Stacktrace:\n",
      "  [1] pkgerror(msg::String)\n",
      "    @ Pkg.Types C:\\Users\\johnl\\AppData\\Local\\Programs\\Julia-1.8.5\\share\\julia\\stdlib\\v1.8\\Pkg\\src\\Types.jl:67\n",
      "  [2] ensure_resolved(ctx::Pkg.Types.Context, manifest::Pkg.Types.Manifest, pkgs::Vector{Pkg.Types.PackageSpec}; registry::Bool)\n",
      "    @ Pkg.Types C:\\Users\\johnl\\AppData\\Local\\Programs\\Julia-1.8.5\\share\\julia\\stdlib\\v1.8\\Pkg\\src\\Types.jl:952\n",
      "  [3] add(ctx::Pkg.Types.Context, pkgs::Vector{Pkg.Types.PackageSpec}; preserve::Pkg.Types.PreserveLevel, platform::Base.BinaryPlatforms.Platform, kwargs::Base.Pairs{Symbol, VSCodeServer.IJuliaCore.IJuliaStdio{Base.PipeEndpoint, typeof(VSCodeServer.io_send_callback)}, Tuple{Symbol}, NamedTuple{(:io,), Tuple{VSCodeServer.IJuliaCore.IJuliaStdio{Base.PipeEndpoint, typeof(VSCodeServer.io_send_callback)}}}})\n",
      "    @ Pkg.API C:\\Users\\johnl\\AppData\\Local\\Programs\\Julia-1.8.5\\share\\julia\\stdlib\\v1.8\\Pkg\\src\\API.jl:264\n",
      "  [4] add(pkgs::Vector{Pkg.Types.PackageSpec}; io::VSCodeServer.IJuliaCore.IJuliaStdio{Base.PipeEndpoint, typeof(VSCodeServer.io_send_callback)}, kwargs::Base.Pairs{Symbol, Union{}, Tuple{}, NamedTuple{(), Tuple{}}})\n",
      "    @ Pkg.API C:\\Users\\johnl\\AppData\\Local\\Programs\\Julia-1.8.5\\share\\julia\\stdlib\\v1.8\\Pkg\\src\\API.jl:156\n",
      "  [5] add(pkgs::Vector{Pkg.Types.PackageSpec})\n",
      "    @ Pkg.API C:\\Users\\johnl\\AppData\\Local\\Programs\\Julia-1.8.5\\share\\julia\\stdlib\\v1.8\\Pkg\\src\\API.jl:145\n",
      "  [6] #add#27\n",
      "    @ C:\\Users\\johnl\\AppData\\Local\\Programs\\Julia-1.8.5\\share\\julia\\stdlib\\v1.8\\Pkg\\src\\API.jl:144 [inlined]\n",
      "  [7] add\n",
      "    @ C:\\Users\\johnl\\AppData\\Local\\Programs\\Julia-1.8.5\\share\\julia\\stdlib\\v1.8\\Pkg\\src\\API.jl:144 [inlined]\n",
      "  [8] #add#26\n",
      "    @ C:\\Users\\johnl\\AppData\\Local\\Programs\\Julia-1.8.5\\share\\julia\\stdlib\\v1.8\\Pkg\\src\\API.jl:143 [inlined]\n",
      "  [9] add(pkg::String)\n",
      "    @ Pkg.API C:\\Users\\johnl\\AppData\\Local\\Programs\\Julia-1.8.5\\share\\julia\\stdlib\\v1.8\\Pkg\\src\\API.jl:143\n",
      " [10] top-level scope\n",
      "    @ c:\\Users\\johnl\\class\\Course_Computational_Physics_and_Engineering\\Homework2.ipynb:1"
     ]
    }
   ],
   "source": [
    "\n"
   ]
  },
  {
   "cell_type": "markdown",
   "id": "80421d41",
   "metadata": {},
   "source": [
    "## Question 3\n",
    "\n",
    "Using the example considered in the lecture notes of the system with the potential energy $U(x) = \\exp(-x^2)$, analyze the energy conservation of explicit RK4."
   ]
  },
  {
   "cell_type": "code",
   "execution_count": null,
   "id": "4a06260c",
   "metadata": {},
   "outputs": [],
   "source": []
  },
  {
   "cell_type": "markdown",
   "id": "3a245697",
   "metadata": {},
   "source": [
    "## Question 4: extra credit for 3170, required for 6170\n",
    "\n",
    "For this problem, we will study a celestial dynamics in 2D. The initial position of your space ship is ${\\bf r}_0 = \\left( 0 \\atop 5 \\right)$. It is located in the neighborhood of a binary star. The coordinate of the two stars are $\\left(-5 \\atop 0 \\right)$ and $\\left(5 \\atop 0\\right)$, respectively. As a result, your ship experiences the gravitational potential\n",
    "$$\n",
    "    U({\\bf r}) = -\\frac{1}{\\sqrt{({\\bf r}_1 + 5)^2 + {\\bf r}_2^2}} -\\frac{1}{\\sqrt{({\\bf r}_1 - 5)^2 + {\\bf r}_2^2}}, \\qquad {\\bf r} = \\left( {\\bf r}_1 \\atop {\\bf r}_2 \\right).\n",
    "$$\n",
    "Assuming a unit mass for your space ship, find its initial velocity ${\\bf v}_0$ such that you make at least 3 rotations around the stars with the engines off.  "
   ]
  },
  {
   "cell_type": "code",
   "execution_count": null,
   "id": "ee6afae6",
   "metadata": {},
   "outputs": [],
   "source": []
  }
 ],
 "metadata": {
  "kernelspec": {
   "display_name": "Julia 1.8.5",
   "language": "julia",
   "name": "julia-1.8"
  },
  "language_info": {
   "file_extension": ".jl",
   "mimetype": "application/julia",
   "name": "julia",
   "version": "1.8.5"
  }
 },
 "nbformat": 4,
 "nbformat_minor": 5
}
