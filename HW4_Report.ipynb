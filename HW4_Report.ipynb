{
 "cells": [
  {
   "attachments": {},
   "cell_type": "markdown",
   "metadata": {},
   "source": [
    "## Regression\n",
    "HW3\n",
    "John Lochner & Jason Li \\\n",
    "Computational Physics"
   ]
  },
  {
   "attachments": {},
   "cell_type": "markdown",
   "metadata": {},
   "source": [
    "## Introduction\n",
    "In this report, we perform polynomial regression of hermite polynomials in 1 and 2 dimensions. Error is minimized via least sqaure minimization.Regression is a technique used to approximate the relationship between a independent and 1 or more dependent variables. \\\n",
    "\\\n",
    "Polynomial regression specifically uses a polynomial function approximation of degree m. The higher the polynomial, the more computationally intensive the regression is. \\\n",
    "\\\n",
    "To further fit the polynomial, one can use backsolving of the real output and polynomial output to find a matching coefficient matrix, a."
   ]
  },
  {
   "attachments": {},
   "cell_type": "markdown",
   "metadata": {},
   "source": [
    "## Problem 1\n",
    "## Key Equations\n",
    "\n",
    "Coefficients: $\\{a_j\\}_{j=1}^m$ \n",
    "\\\\\n",
    "Hermite Polynomials: Can u list these out lol\n",
    "\n",
    "Error function:\n",
    "$$\n",
    "    error^2 = \\sum_{k=1}^n \\left(\\sum_{j=1}^m a_j H_{j - 1}(x_k) - f_k\\right)^2 \\to \\min.\n",
    "$$"
   ]
  },
  {
   "attachments": {},
   "cell_type": "markdown",
   "metadata": {},
   "source": [
    "## Solution: \n",
    "$$\n",
    "error^2 = \\left\\|\n",
    "    \\underbrace{\\left\\{\\begin{pmatrix}\n",
    "    1 & H_1(x_1) & H_2(x_1) & \\ldots & H_{m-1}(x_1) \\\\\n",
    "    1 & H_1(x_2) & H_2(x_2) & \\ldots & H_{m-1}(x_2) \\\\\n",
    "    \\vdots & \\vdots & \\vdots & \\ddots & \\vdots \\\\\n",
    "    1 & H_1(x_n) & H_2(x_n) & \\ldots & H_{m-1}(x_n) \\\\\n",
    "\\end{pmatrix}\\right.}\n",
    "\\begin{pmatrix}\n",
    "    a_1 \\\\\n",
    "    a_2 \\\\\n",
    "    \\vdots \\\\\n",
    "    a_m \n",
    "\\end{pmatrix}\n",
    "-\n",
    "\\begin{pmatrix}\n",
    "    f_1 \\\\\n",
    "    f_2 \\\\\n",
    "    \\vdots \\\\\n",
    "    f_n \n",
    "\\end{pmatrix}\n",
    "\\right\\|_2^2 \\to \\min,\n",
    "$$"
   ]
  },
  {
   "cell_type": "markdown",
   "metadata": {},
   "source": []
  }
 ],
 "metadata": {
  "kernelspec": {
   "display_name": "Julia 1.8.5",
   "language": "julia",
   "name": "julia-1.8"
  },
  "language_info": {
   "file_extension": ".jl",
   "mimetype": "application/julia",
   "name": "julia",
   "version": "1.8.5"
  },
  "orig_nbformat": 4
 },
 "nbformat": 4,
 "nbformat_minor": 2
}
